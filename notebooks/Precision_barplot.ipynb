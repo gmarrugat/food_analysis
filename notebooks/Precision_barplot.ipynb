{
 "cells": [
  {
   "cell_type": "code",
   "execution_count": 280,
   "metadata": {},
   "outputs": [],
   "source": [
    "import matplotlib.pyplot as plt\n",
    "import numpy as np\n",
    "import os\n",
    "\n",
    "from sklearn.metrics import confusion_matrix\n",
    "from sklearn.metrics import multilabel_confusion_matrix\n",
    "from sklearn.metrics import precision_recall_fscore_support, precision_score"
   ]
  },
  {
   "cell_type": "markdown",
   "metadata": {},
   "source": [
    "## Dish List"
   ]
  },
  {
   "cell_type": "code",
   "execution_count": 281,
   "metadata": {},
   "outputs": [],
   "source": [
    "dish_labels = []\n",
    "with open('../datasets/VireoFood172/FoodList.txt','r') as f:\n",
    "    for line in f:\n",
    "        dish_labels.append(line.replace('\\n',''))"
   ]
  },
  {
   "cell_type": "markdown",
   "metadata": {},
   "source": [
    "## Confusion Matrix"
   ]
  },
  {
   "cell_type": "markdown",
   "metadata": {},
   "source": [
    "If the confusion matrix is normalized by row, the result in the diagonal is the precision value."
   ]
  },
  {
   "cell_type": "markdown",
   "metadata": {},
   "source": [
    "### Dish Classification"
   ]
  },
  {
   "cell_type": "markdown",
   "metadata": {},
   "source": [
    "#### Multi Task Baseline"
   ]
  },
  {
   "cell_type": "code",
   "execution_count": 282,
   "metadata": {},
   "outputs": [],
   "source": [
    "test_dish_labels = []\n",
    "with open('../datasets/VireoFood172/meta/test_dish_lbls.txt','r') as f:\n",
    "    for line in f:\n",
    "        test_dish_labels.append(line.replace('\\n',''))\n",
    "        \n",
    "test_dish_predictions = []\n",
    "with open('../results/precision_dishes/pred_food_multitask.txt','r') as f:\n",
    "    for line in f:\n",
    "        test_dish_predictions.append(line.replace('\\n',''))"
   ]
  },
  {
   "cell_type": "code",
   "execution_count": 283,
   "metadata": {},
   "outputs": [
    {
     "name": "stdout",
     "output_type": "stream",
     "text": [
      "Confusion Matrix\n",
      "\n",
      "[[0.78827362 0.00651466 0.         ... 0.         0.         0.        ]\n",
      " [0.01010101 0.61952862 0.         ... 0.02356902 0.003367   0.        ]\n",
      " [0.         0.00462963 0.75462963 ... 0.         0.         0.        ]\n",
      " ...\n",
      " [0.         0.         0.         ... 0.83695652 0.         0.        ]\n",
      " [0.         0.         0.         ... 0.         0.95266272 0.        ]\n",
      " [0.         0.01020408 0.         ... 0.         0.         0.5       ]]\n",
      "\n",
      "Precision for each dish (first 10)\n",
      "\n"
     ]
    },
    {
     "data": {
      "text/plain": [
       "array([0.78827362, 0.61952862, 0.75462963, 0.93452381, 0.82051282,\n",
       "       0.63815789, 0.91011236, 0.9223301 , 0.58181818, 0.81707317])"
      ]
     },
     "execution_count": 283,
     "metadata": {},
     "output_type": "execute_result"
    }
   ],
   "source": [
    "cm_1 = confusion_matrix(test_dish_labels,test_dish_predictions)\n",
    "cm_1 = cm_1.astype('float') / cm_1.sum(axis=1)[:, np.newaxis]\n",
    "print('Confusion Matrix\\n')\n",
    "print(cm_1)\n",
    "print('\\nPrecision for each dish (first 10)\\n')\n",
    "mtl_prec_dish = cm_1.diagonal()\n",
    "mtl_prec_dish[:10]"
   ]
  },
  {
   "cell_type": "code",
   "execution_count": 284,
   "metadata": {},
   "outputs": [],
   "source": [
    "mtl_prec_dish = precision_score(test_dish_labels, test_dish_predictions, average=None)"
   ]
  },
  {
   "cell_type": "markdown",
   "metadata": {},
   "source": [
    "#### Dish-Ingredient Probabilities"
   ]
  },
  {
   "cell_type": "code",
   "execution_count": 285,
   "metadata": {},
   "outputs": [],
   "source": [
    "test_dish_predictions = []\n",
    "with open('../results/precision_dishes/pred_food_multitask_dish_ingr_ont.txt','r') as f:\n",
    "    for line in f:\n",
    "        test_dish_predictions.append(line.replace('\\n',''))"
   ]
  },
  {
   "cell_type": "code",
   "execution_count": 286,
   "metadata": {},
   "outputs": [
    {
     "name": "stdout",
     "output_type": "stream",
     "text": [
      "Confusion Matrix\n",
      "\n",
      "[[0.71661238 0.         0.00325733 ... 0.00325733 0.         0.        ]\n",
      " [0.003367   0.37373737 0.00673401 ... 0.01683502 0.         0.        ]\n",
      " [0.         0.         0.87037037 ... 0.         0.         0.        ]\n",
      " ...\n",
      " [0.         0.         0.         ... 0.54347826 0.         0.        ]\n",
      " [0.         0.         0.         ... 0.         0.79881657 0.        ]\n",
      " [0.         0.         0.         ... 0.         0.         0.7755102 ]]\n",
      "\n",
      "Precision for each dish (first 10)\n",
      "\n"
     ]
    },
    {
     "data": {
      "text/plain": [
       "array([0.71661238, 0.37373737, 0.87037037, 0.88095238, 0.76923077,\n",
       "       0.73684211, 0.85393258, 0.69902913, 0.47272727, 0.6402439 ])"
      ]
     },
     "execution_count": 286,
     "metadata": {},
     "output_type": "execute_result"
    }
   ],
   "source": [
    "cm_1 = confusion_matrix(test_dish_labels,test_dish_predictions)\n",
    "cm_1 = cm_1.astype('float') / cm_1.sum(axis=1)[:, np.newaxis]\n",
    "print('Confusion Matrix\\n')\n",
    "print(cm_1)\n",
    "print('\\nPrecision for each dish (first 10)\\n')\n",
    "di_prob_prec_dish = cm_1.diagonal()\n",
    "di_prob_prec_dish[:10]"
   ]
  },
  {
   "cell_type": "code",
   "execution_count": 287,
   "metadata": {},
   "outputs": [],
   "source": [
    "di_prob_prec_dish = precision_score(test_dish_labels, test_dish_predictions, average=None)"
   ]
  },
  {
   "cell_type": "markdown",
   "metadata": {},
   "source": [
    "#### Dish-Ingredient Probabilities Negative"
   ]
  },
  {
   "cell_type": "code",
   "execution_count": 288,
   "metadata": {},
   "outputs": [],
   "source": [
    "test_dish_predictions = []\n",
    "with open('../results/precision_dishes/pred_food_multitask_dish_ingr_ont_neg.txt','r') as f:\n",
    "    for line in f:\n",
    "        test_dish_predictions.append(line.replace('\\n',''))"
   ]
  },
  {
   "cell_type": "code",
   "execution_count": 289,
   "metadata": {},
   "outputs": [
    {
     "name": "stdout",
     "output_type": "stream",
     "text": [
      "Confusion Matrix\n",
      "\n",
      "[[0.84039088 0.         0.         ... 0.         0.         0.        ]\n",
      " [0.003367   0.39393939 0.         ... 0.00673401 0.         0.        ]\n",
      " [0.         0.         0.84259259 ... 0.         0.         0.        ]\n",
      " ...\n",
      " [0.         0.         0.         ... 0.7173913  0.         0.        ]\n",
      " [0.         0.         0.         ... 0.         0.9408284  0.        ]\n",
      " [0.         0.         0.02040816 ... 0.         0.         0.40816327]]\n",
      "\n",
      "Precision for each dish (first 10)\n",
      "\n"
     ]
    },
    {
     "data": {
      "text/plain": [
       "array([0.84039088, 0.39393939, 0.84259259, 0.86904762, 0.80128205,\n",
       "       0.82894737, 0.82022472, 0.70873786, 0.74545455, 0.73780488])"
      ]
     },
     "execution_count": 289,
     "metadata": {},
     "output_type": "execute_result"
    }
   ],
   "source": [
    "cm_1 = confusion_matrix(test_dish_labels,test_dish_predictions)\n",
    "cm_1 = cm_1.astype('float') / cm_1.sum(axis=1)[:, np.newaxis]\n",
    "print('Confusion Matrix\\n')\n",
    "print(cm_1)\n",
    "print('\\nPrecision for each dish (first 10)\\n')\n",
    "di_neg_prob_prec_dish = cm_1.diagonal()\n",
    "di_neg_prob_prec_dish[:10]"
   ]
  },
  {
   "cell_type": "code",
   "execution_count": 290,
   "metadata": {},
   "outputs": [],
   "source": [
    "di_prob_neg_prec_dish = precision_score(test_dish_labels, test_dish_predictions, average=None)"
   ]
  },
  {
   "cell_type": "markdown",
   "metadata": {},
   "source": [
    "#### Dish-Ingredient Ingredient-Ingredient Probabilities Negative"
   ]
  },
  {
   "cell_type": "code",
   "execution_count": 291,
   "metadata": {},
   "outputs": [],
   "source": [
    "test_dish_predictions = []\n",
    "with open('../results/precision_dishes/pred_food_multitask_dish_ingr_ingr_ingr_ont_neg.txt','r') as f:\n",
    "    for line in f:\n",
    "        test_dish_predictions.append(line.replace('\\n',''))"
   ]
  },
  {
   "cell_type": "code",
   "execution_count": 292,
   "metadata": {},
   "outputs": [
    {
     "name": "stdout",
     "output_type": "stream",
     "text": [
      "Confusion Matrix\n",
      "\n",
      "[[0.71335505 0.         0.         ... 0.         0.         0.        ]\n",
      " [0.00673401 0.52188552 0.         ... 0.01010101 0.003367   0.        ]\n",
      " [0.         0.         0.87037037 ... 0.         0.         0.        ]\n",
      " ...\n",
      " [0.         0.         0.         ... 0.66304348 0.01086957 0.        ]\n",
      " [0.         0.         0.         ... 0.         0.95857988 0.        ]\n",
      " [0.         0.         0.         ... 0.         0.         0.71428571]]\n",
      "\n",
      "Precision for each dish (first 10)\n",
      "\n"
     ]
    },
    {
     "data": {
      "text/plain": [
       "array([0.71335505, 0.52188552, 0.87037037, 0.91666667, 0.72435897,\n",
       "       0.67105263, 0.73033708, 0.84466019, 0.81212121, 0.75      ])"
      ]
     },
     "execution_count": 292,
     "metadata": {},
     "output_type": "execute_result"
    }
   ],
   "source": [
    "cm_1 = confusion_matrix(test_dish_labels,test_dish_predictions)\n",
    "cm_1 = cm_1.astype('float') / cm_1.sum(axis=1)[:, np.newaxis]\n",
    "print('Confusion Matrix\\n')\n",
    "print(cm_1)\n",
    "print('\\nPrecision for each dish (first 10)\\n')\n",
    "di_ii_prob_neg_prec_dish = cm_1.diagonal()\n",
    "di_ii_prob_neg_prec_dish[:10]"
   ]
  },
  {
   "cell_type": "code",
   "execution_count": 293,
   "metadata": {},
   "outputs": [],
   "source": [
    "di_ii_prob_neg_prec_dish = precision_score(test_dish_labels, test_dish_predictions, average=None)"
   ]
  },
  {
   "cell_type": "markdown",
   "metadata": {},
   "source": [
    "#### Ingredient-Ingredient Probabilities Negative"
   ]
  },
  {
   "cell_type": "code",
   "execution_count": 294,
   "metadata": {},
   "outputs": [],
   "source": [
    "test_dish_predictions = []\n",
    "with open('../results/precision_dishes/pred_food_multitask_ingr_ingr_ont_neg.txt','r') as f:\n",
    "    for line in f:\n",
    "        test_dish_predictions.append(line.replace('\\n',''))"
   ]
  },
  {
   "cell_type": "code",
   "execution_count": 295,
   "metadata": {},
   "outputs": [
    {
     "name": "stdout",
     "output_type": "stream",
     "text": [
      "Confusion Matrix\n",
      "\n",
      "[[0.70358306 0.00651466 0.         ... 0.00651466 0.         0.        ]\n",
      " [0.         0.72053872 0.         ... 0.03367003 0.         0.        ]\n",
      " [0.         0.         0.8287037  ... 0.         0.         0.        ]\n",
      " ...\n",
      " [0.         0.01086957 0.         ... 0.76086957 0.         0.        ]\n",
      " [0.         0.         0.         ... 0.         0.96449704 0.        ]\n",
      " [0.         0.         0.         ... 0.         0.         0.5       ]]\n",
      "\n",
      "Precision for each dish (first 10)\n",
      "\n"
     ]
    },
    {
     "data": {
      "text/plain": [
       "array([0.70358306, 0.72053872, 0.8287037 , 0.9047619 , 0.73717949,\n",
       "       0.84210526, 0.75842697, 0.7961165 , 0.83030303, 0.88414634])"
      ]
     },
     "execution_count": 295,
     "metadata": {},
     "output_type": "execute_result"
    }
   ],
   "source": [
    "cm_1 = confusion_matrix(test_dish_labels,test_dish_predictions)\n",
    "cm_1 = cm_1.astype('float') / cm_1.sum(axis=1)[:, np.newaxis]\n",
    "print('Confusion Matrix\\n')\n",
    "print(cm_1)\n",
    "print('\\nPrecision for each dish (first 10)\\n')\n",
    "ii_prob_neg_prec_dish = cm_1.diagonal()\n",
    "ii_prob_neg_prec_dish[:10]"
   ]
  },
  {
   "cell_type": "code",
   "execution_count": 296,
   "metadata": {},
   "outputs": [],
   "source": [
    "ii_prob_neg_prec_dish = precision_score(test_dish_labels, test_dish_predictions, average=None)"
   ]
  },
  {
   "cell_type": "code",
   "execution_count": 298,
   "metadata": {},
   "outputs": [
    {
     "name": "stdout",
     "output_type": "stream",
     "text": [
      "How many dishes predicts more precisely the ontology model?\n",
      "DI probs:  92\n",
      "DI probs neg:  87\n",
      "II probs neg:  84\n",
      "DI-II probs neg:  94\n"
     ]
    }
   ],
   "source": [
    "print('How many dishes predicts more precisely the ontology model?')\n",
    "print('DI probs: ',sum(mtl_prec_dish < di_prob_prec_dish))\n",
    "print('DI probs neg: ',sum(mtl_prec_dish < di_prob_neg_prec_dish))\n",
    "print('II probs neg: ',sum(mtl_prec_dish < ii_prob_neg_prec_dish))\n",
    "print('DI-II probs neg: ',sum(mtl_prec_dish < di_ii_prob_neg_prec_dish))"
   ]
  },
  {
   "cell_type": "code",
   "execution_count": 299,
   "metadata": {},
   "outputs": [
    {
     "name": "stdout",
     "output_type": "stream",
     "text": [
      "[0.92982456 0.97101449 0.99224806 0.98275862 0.81268012 0.96531792\n",
      " 0.94326241 0.93181818 0.85950413 0.73154362]\n"
     ]
    },
    {
     "data": {
      "text/plain": [
       "array([1.        , 1.        , 0.99152542, 0.99134199, 0.98859316,\n",
       "       0.98830409, 0.98367347, 0.98245614, 0.98224852, 0.98      ])"
      ]
     },
     "execution_count": 299,
     "metadata": {},
     "output_type": "execute_result"
    }
   ],
   "source": [
    "idxs = di_ii_prob_neg_prec_dish.argsort()[::-1][:10]\n",
    "print(mtl_prec_dish[idxs])\n",
    "di_ii_prob_neg_prec_dish[idxs]"
   ]
  },
  {
   "cell_type": "code",
   "execution_count": 373,
   "metadata": {},
   "outputs": [
    {
     "name": "stdout",
     "output_type": "stream",
     "text": [
      "['Roast chicken wings', 'Beef Kebabs', 'Saute Spicy Chicken', 'Kung Pao Chicken', 'Spicy shrump ', 'Yu-Shiang Shredded Pork', 'Deep-Fried Fermented Tofu', 'Shredded chicken', 'Roast leek']\n",
      "[0.53314121 0.64435146 0.43304348 0.57462687 0.60858586 0.75\n",
      " 0.64732143 0.73103448 0.61052632]\n",
      "[0.84946237 0.96       0.73103448 0.86705202 0.83972125 0.97014925\n",
      " 0.86554622 0.93859649 0.81428571]\n"
     ]
    }
   ],
   "source": [
    "idxs = (di_ii_prob_neg_prec_dish - mtl_prec_dish).argsort()[::-1][np.r_[3,4,6,7,9:12,15,16]]\n",
    "sel_dishes_labels = np.array(dish_labels)[idxs.astype(int)].tolist()\n",
    "print(sel_dishes_labels)\n",
    "sel_mtl_prec_dish = mtl_prec_dish[idxs]\n",
    "print(sel_mtl_prec_dish)\n",
    "sel_di_ii_prob_neg_prec_dish = di_ii_prob_neg_prec_dish[idxs]\n",
    "print(sel_di_ii_prob_neg_prec_dish)"
   ]
  },
  {
   "cell_type": "code",
   "execution_count": 374,
   "metadata": {},
   "outputs": [
    {
     "data": {
      "text/plain": [
       "array([ 25,  60,  24,  22,  52,   6,  83,  30, 124], dtype=int64)"
      ]
     },
     "execution_count": 374,
     "metadata": {},
     "output_type": "execute_result"
    }
   ],
   "source": [
    "idxs"
   ]
  },
  {
   "cell_type": "code",
   "execution_count": 365,
   "metadata": {},
   "outputs": [
    {
     "data": {
      "image/png": "[encoded data removed]",
      "text/plain": [
       "<Figure size 1080x720 with 1 Axes>"
      ]
     },
     "metadata": {},
     "output_type": "display_data"
    }
   ],
   "source": [
    "SMALL_SIZE = 10\n",
    "MEDIUM_SIZE = 20\n",
    "BIGGER_SIZE = 30\n",
    "\n",
    "#sel_dishes_labels\n",
    "sel_mtl_prec_dish = [round(i,2) for i in sel_mtl_prec_dish]\n",
    "sel_di_ii_prob_neg_prec_dish = [round(i,2) for i in sel_di_ii_prob_neg_prec_dish]\n",
    "\n",
    "x = np.arange(len(sel_dishes_labels))  # the label locations\n",
    "width = 0.35  # the width of the bars\n",
    "\n",
    "fig, ax = plt.subplots(figsize=(15,10))\n",
    "rects1 = ax.bar(x - width/2, sel_mtl_prec_dish, width, label='MTL', color='#81BEF7')\n",
    "rects2 = ax.bar(x + width/2, sel_di_ii_prob_neg_prec_dish, width, label='DI-II', color='#0080FF')\n",
    "\n",
    "# Add some text for labels, title and custom x-axis tick labels, etc.\n",
    "ax.set_ylabel('Scores', size=MEDIUM_SIZE)\n",
    "ax.set_title('Precision on Single Label', size=BIGGER_SIZE)\n",
    "ax.set_xticks(x)\n",
    "ax.set_xticklabels(sel_dishes_labels, rotation=90, size=MEDIUM_SIZE)\n",
    "ax.legend(fontsize=MEDIUM_SIZE,loc='upper left', bbox_to_anchor=(1,1))\n",
    "ax.tick_params(labelsize=MEDIUM_SIZE)\n",
    "\n",
    "\n",
    "def autolabel(rects):\n",
    "    \n",
    "    for rect in rects:\n",
    "        height = rect.get_height()\n",
    "        ax.annotate('{}'.format(height),\n",
    "                    xy=(rect.get_x() + rect.get_width() / 2, height),\n",
    "                    xytext=(0, 3),  # 3 points vertical offset\n",
    "                    textcoords=\"offset points\",\n",
    "                    ha='center', va='bottom', size=MEDIUM_SIZE)\n",
    "\n",
    "\n",
    "autolabel(rects1)\n",
    "autolabel(rects2)\n",
    "\n",
    "fig.tight_layout()\n",
    "fig.savefig('precision_SL_comparison.jpeg')\n",
    "\n",
    "plt.show()"
   ]
  },
  {
   "cell_type": "markdown",
   "metadata": {},
   "source": [
    "## Ingredient List"
   ]
  },
  {
   "cell_type": "markdown",
   "metadata": {},
   "source": [
    "https://scikit-learn.org/stable/modules/generated/sklearn.metrics.multilabel_confusion_matrix.html"
   ]
  },
  {
   "cell_type": "code",
   "execution_count": 336,
   "metadata": {},
   "outputs": [],
   "source": [
    "ingredient_labels = []\n",
    "ingredient_idx = []\n",
    "with open('../datasets/VireoFood172/IngredientList.txt','r') as f:\n",
    "    for i, line in enumerate(f):\n",
    "        ingredient_labels.append(line.replace('\\n',''))\n",
    "        ingredient_idx.append(i)"
   ]
  },
  {
   "cell_type": "markdown",
   "metadata": {},
   "source": [
    "### Binarizer"
   ]
  },
  {
   "cell_type": "code",
   "execution_count": 337,
   "metadata": {},
   "outputs": [
    {
     "data": {
      "text/plain": [
       "MultiLabelBinarizer(classes=None, sparse_output=False)"
      ]
     },
     "execution_count": 337,
     "metadata": {},
     "output_type": "execute_result"
    }
   ],
   "source": [
    "#transform the multilabel classification results into a binarized label\n",
    "from sklearn.preprocessing import MultiLabelBinarizer\n",
    "\n",
    "mlb = MultiLabelBinarizer()\n",
    "mlb.fit(np.array(ingredient_idx).reshape(1,-1)) #fit the binarizer with the ingredient labels in dataset"
   ]
  },
  {
   "cell_type": "code",
   "execution_count": 338,
   "metadata": {},
   "outputs": [],
   "source": [
    "def binarize_labels(list_labels, binarizer):\n",
    "    sublist = [labels.split(',') for labels in list_labels]\n",
    "\n",
    "    ingr_list = []\n",
    "    for i in sublist:\n",
    "        new_sublist = []\n",
    "        for elem in i:\n",
    "            new_sublist.append(int(elem))\n",
    "        ingr_list.append(np.array(new_sublist))\n",
    "    ingr_list = np.array(ingr_list)\n",
    "    \n",
    "    bin_list_labels = binarizer.transform(ingr_list)\n",
    "    \n",
    "    return bin_list_labels"
   ]
  },
  {
   "cell_type": "markdown",
   "metadata": {},
   "source": [
    "### Ingredient Classification"
   ]
  },
  {
   "cell_type": "markdown",
   "metadata": {},
   "source": [
    "#### Test GT"
   ]
  },
  {
   "cell_type": "code",
   "execution_count": 339,
   "metadata": {},
   "outputs": [],
   "source": [
    "test_ingr_labels = []\n",
    "with open('../datasets/VireoFood172/meta/test_ing_lbls_3.txt','r') as f:\n",
    "    for line in f:\n",
    "        test_ingr_labels.append(line.replace('\\n',''))\n",
    "        \n",
    "bin_test_ingr_labels = binarize_labels(test_ingr_labels, mlb)"
   ]
  },
  {
   "cell_type": "markdown",
   "metadata": {},
   "source": [
    "#### Multi Task Baseline"
   ]
  },
  {
   "cell_type": "code",
   "execution_count": 340,
   "metadata": {},
   "outputs": [],
   "source": [
    "test_ingr_predictions = []\n",
    "with open('../results/precision_ingredients/pred_food_multitask.txt','r') as f:\n",
    "    for line in f:\n",
    "        test_ingr_predictions.append(line.replace('\\n',''))\n",
    "        \n",
    "bin_test_ingr_predictions = binarize_labels(test_ingr_predictions, mlb)"
   ]
  },
  {
   "cell_type": "code",
   "execution_count": 341,
   "metadata": {},
   "outputs": [
    {
     "name": "stdout",
     "output_type": "stream",
     "text": [
      "Confusion Matrix\n",
      "\n",
      "[[[7.55594194e-01 9.65362795e-01]\n",
      "  [4.39219837e-02 8.26515378e-01]]\n",
      "\n",
      " [[9.81593204e-01 8.97897898e-01]\n",
      "  [7.41812361e-03 6.38138138e-01]]\n",
      "\n",
      " [[9.38284551e-01 2.73734610e+00]\n",
      "  [1.06714369e-02 5.26675787e-01]]\n",
      "\n",
      " ...\n",
      "\n",
      " [[9.99606192e-01 9.09090909e-02]\n",
      "  [3.02929327e-04 9.30069930e-01]]\n",
      "\n",
      " [[9.99094449e-01 1.20000000e+00]\n",
      "  [7.54625857e-04 0.00000000e+00]]\n",
      "\n",
      " [[1.00000000e+00 0.00000000e+00]\n",
      "  [6.03281853e-05 0.00000000e+00]]]\n",
      "\n",
      "Precision for each ingredient (first 10)\n",
      "\n"
     ]
    },
    {
     "data": {
      "text/plain": [
       "array([0.75559419, 0.9815932 , 0.93828455, 0.99857619, 0.99764663,\n",
       "       0.99966811, 1.        , 0.99806693, 0.98494704, 0.9906371 ])"
      ]
     },
     "execution_count": 341,
     "metadata": {},
     "output_type": "execute_result"
    }
   ],
   "source": [
    "cm_1 = multilabel_confusion_matrix(bin_test_ingr_labels, bin_test_ingr_predictions)\n",
    "cm_1 = np.array([cm.astype('float') / cm.sum(axis=1) for cm in cm_1 if cm.sum(axis=1)[0] != 0])\n",
    "print('Confusion Matrix\\n')\n",
    "print(cm_1)\n",
    "print('\\nPrecision for each ingredient (first 10)\\n')\n",
    "mtl_prec_ingr = cm_1[:,0,0]\n",
    "mtl_prec_ingr[:10]"
   ]
  },
  {
   "cell_type": "code",
   "execution_count": 342,
   "metadata": {},
   "outputs": [
    {
     "name": "stderr",
     "output_type": "stream",
     "text": [
      "C:\\Anaconda3\\lib\\site-packages\\sklearn\\metrics\\classification.py:1437: UndefinedMetricWarning: Precision is ill-defined and being set to 0.0 in labels with no predicted samples.\n",
      "  'precision', 'predicted', average, warn_for)\n"
     ]
    }
   ],
   "source": [
    "mtl_prec_ingr = precision_score(bin_test_ingr_labels, bin_test_ingr_predictions, average=None)"
   ]
  },
  {
   "cell_type": "markdown",
   "metadata": {},
   "source": [
    "#### Dish-Ingredient Probabilities"
   ]
  },
  {
   "cell_type": "code",
   "execution_count": 343,
   "metadata": {},
   "outputs": [],
   "source": [
    "test_ingr_predictions = []\n",
    "with open('../results/precision_ingredients/pred_food_multitask_dish_ingr_ont.txt','r') as f:\n",
    "    for line in f:\n",
    "        test_ingr_predictions.append(line.replace('\\n',''))\n",
    "        \n",
    "bin_test_ingr_predictions = binarize_labels(test_ingr_predictions, mlb)"
   ]
  },
  {
   "cell_type": "code",
   "execution_count": 344,
   "metadata": {},
   "outputs": [
    {
     "name": "stdout",
     "output_type": "stream",
     "text": [
      "Confusion Matrix\n",
      "\n",
      "[[[5.56168733e-01 1.75306062e+00]\n",
      "  [1.65935894e-02 9.34458047e-01]]\n",
      "\n",
      " [[9.32128786e-01 3.31081081e+00]\n",
      "  [4.49396700e-03 7.80780781e-01]]\n",
      "\n",
      " [[9.49634519e-01 2.23392613e+00]\n",
      "  [1.19359714e-02 4.70588235e-01]]\n",
      "\n",
      " ...\n",
      "\n",
      " [[9.99727364e-01 6.29370629e-02]\n",
      "  [5.75565721e-04 8.67132867e-01]]\n",
      "\n",
      " [[9.99366114e-01 8.40000000e-01]\n",
      "  [7.54625857e-04 0.00000000e+00]]\n",
      "\n",
      " [[9.99939672e-01 1.00000000e+00]\n",
      "  [6.03281853e-05 0.00000000e+00]]]\n",
      "\n",
      "Precision for each ingredient (first 10)\n",
      "\n"
     ]
    },
    {
     "data": {
      "text/plain": [
       "array([0.55616873, 0.93212879, 0.94963452, 0.9985156 , 0.99205355,\n",
       "       0.99858195, 0.99954724, 0.99809714, 0.96112866, 0.98408003])"
      ]
     },
     "execution_count": 344,
     "metadata": {},
     "output_type": "execute_result"
    }
   ],
   "source": [
    "cm_1 = multilabel_confusion_matrix(bin_test_ingr_labels, bin_test_ingr_predictions)\n",
    "cm_1 = np.array([cm.astype('float') / cm.sum(axis=1) for cm in cm_1 if cm.sum(axis=1)[0] != 0])\n",
    "print('Confusion Matrix\\n')\n",
    "print(cm_1)\n",
    "print('\\nPrecision for each ingredient (first 10)\\n')\n",
    "di_prob_prec_ingr = cm_1[:,0,0]\n",
    "di_prob_prec_ingr[:10]"
   ]
  },
  {
   "cell_type": "code",
   "execution_count": 345,
   "metadata": {},
   "outputs": [],
   "source": [
    "di_prob_prec_ingr = precision_score(bin_test_ingr_labels, bin_test_ingr_predictions, average=None)"
   ]
  },
  {
   "cell_type": "markdown",
   "metadata": {},
   "source": [
    "#### Dish-Ingredient Probabilities Negative"
   ]
  },
  {
   "cell_type": "code",
   "execution_count": 346,
   "metadata": {},
   "outputs": [],
   "source": [
    "test_ingr_predictions = []\n",
    "with open('../results/precision_ingredients/pred_food_multitask_dish_ingr_ingr_ingr_ont_neg.txt','r') as f:\n",
    "    for line in f:\n",
    "        test_ingr_predictions.append(line.replace('\\n',''))\n",
    "        \n",
    "bin_test_ingr_predictions = binarize_labels(test_ingr_predictions, mlb)"
   ]
  },
  {
   "cell_type": "code",
   "execution_count": 347,
   "metadata": {},
   "outputs": [
    {
     "name": "stdout",
     "output_type": "stream",
     "text": [
      "Confusion Matrix\n",
      "\n",
      "[[[6.05760508e-01 1.55718125e+00]\n",
      "  [1.71605685e-02 9.32218573e-01]]\n",
      "\n",
      " [[9.68665353e-01 1.52852853e+00]\n",
      "  [5.20192071e-03 7.46246246e-01]]\n",
      "\n",
      " [[9.36372328e-01 2.82216142e+00]\n",
      "  [1.08564908e-02 5.18467852e-01]]\n",
      "\n",
      " ...\n",
      "\n",
      " [[9.99818242e-01 4.19580420e-02]\n",
      "  [7.27030384e-04 8.32167832e-01]]\n",
      "\n",
      " [[9.99969815e-01 4.00000000e-02]\n",
      "  [7.54625857e-04 0.00000000e+00]]\n",
      "\n",
      " [[1.00000000e+00 0.00000000e+00]\n",
      "  [6.03281853e-05 0.00000000e+00]]]\n",
      "\n",
      "Precision for each ingredient (first 10)\n",
      "\n"
     ]
    },
    {
     "data": {
      "text/plain": [
       "array([0.60576051, 0.96866535, 0.93637233, 0.99909118, 0.99394847,\n",
       "       1.        , 1.        , 0.99719101, 0.9536951 , 0.98063375])"
      ]
     },
     "execution_count": 347,
     "metadata": {},
     "output_type": "execute_result"
    }
   ],
   "source": [
    "cm_1 = multilabel_confusion_matrix(bin_test_ingr_labels, bin_test_ingr_predictions)\n",
    "cm_1 = np.array([cm.astype('float') / cm.sum(axis=1) for cm in cm_1 if cm.sum(axis=1)[0] != 0])\n",
    "print('Confusion Matrix\\n')\n",
    "print(cm_1)\n",
    "print('\\nPrecision for each ingredient (first 10)\\n')\n",
    "di_prob_neg_prec_ingr = cm_1[:,0,0]\n",
    "di_prob_neg_prec_ingr[:10]"
   ]
  },
  {
   "cell_type": "code",
   "execution_count": 348,
   "metadata": {},
   "outputs": [
    {
     "name": "stderr",
     "output_type": "stream",
     "text": [
      "C:\\Anaconda3\\lib\\site-packages\\sklearn\\metrics\\classification.py:1437: UndefinedMetricWarning: Precision is ill-defined and being set to 0.0 in labels with no predicted samples.\n",
      "  'precision', 'predicted', average, warn_for)\n"
     ]
    }
   ],
   "source": [
    "di_prob_neg_prec_ingr = precision_score(bin_test_ingr_labels, bin_test_ingr_predictions, average=None)"
   ]
  },
  {
   "cell_type": "markdown",
   "metadata": {},
   "source": [
    "#### Ingredient-Ingredient Probabilities Negative"
   ]
  },
  {
   "cell_type": "code",
   "execution_count": 349,
   "metadata": {},
   "outputs": [],
   "source": [
    "test_ingr_predictions = []\n",
    "with open('../results/precision_ingredients/pred_food_multitask_ingr_ingr_ont_neg.txt','r') as f:\n",
    "    for line in f:\n",
    "        test_ingr_predictions.append(line.replace('\\n',''))\n",
    "        \n",
    "bin_test_ingr_predictions = binarize_labels(test_ingr_predictions, mlb)"
   ]
  },
  {
   "cell_type": "code",
   "execution_count": 350,
   "metadata": {},
   "outputs": [
    {
     "name": "stdout",
     "output_type": "stream",
     "text": [
      "Confusion Matrix\n",
      "\n",
      "[[[7.42893862e-01 1.01552702e+00]\n",
      "  [3.39431509e-02 8.65930128e-01]]\n",
      "\n",
      " [[9.86887466e-01 6.39639640e-01]\n",
      "  [7.84905196e-03 6.17117117e-01]]\n",
      "\n",
      " [[9.88064029e-01 5.29411765e-01]\n",
      "  [1.73642168e-02 2.29822161e-01]]\n",
      "\n",
      " ...\n",
      "\n",
      " [[9.99182091e-01 1.88811189e-01]\n",
      "  [2.42343461e-04 9.44055944e-01]]\n",
      "\n",
      " [[9.99879260e-01 1.60000000e-01]\n",
      "  [7.54625857e-04 0.00000000e+00]]\n",
      "\n",
      " [[1.00000000e+00 0.00000000e+00]\n",
      "  [6.03281853e-05 0.00000000e+00]]]\n",
      "\n",
      "Precision for each ingredient (first 10)\n",
      "\n"
     ]
    },
    {
     "data": {
      "text/plain": [
       "array([0.74289386, 0.98688747, 0.98806403, 0.99588004, 0.99694367,\n",
       "       1.        , 1.        , 0.99966775, 0.9771418 , 0.98404953])"
      ]
     },
     "execution_count": 350,
     "metadata": {},
     "output_type": "execute_result"
    }
   ],
   "source": [
    "cm_1 = multilabel_confusion_matrix(bin_test_ingr_labels, bin_test_ingr_predictions)\n",
    "cm_1 = np.array([cm.astype('float') / cm.sum(axis=1) for cm in cm_1 if cm.sum(axis=1)[0] != 0])\n",
    "print('Confusion Matrix\\n')\n",
    "print(cm_1)\n",
    "print('\\nPrecision for each ingredient (first 10)\\n')\n",
    "ii_prob_neg_prec_ingr = cm_1[:,0,0]\n",
    "ii_prob_neg_prec_ingr[:10]"
   ]
  },
  {
   "cell_type": "code",
   "execution_count": 351,
   "metadata": {},
   "outputs": [
    {
     "name": "stderr",
     "output_type": "stream",
     "text": [
      "C:\\Anaconda3\\lib\\site-packages\\sklearn\\metrics\\classification.py:1437: UndefinedMetricWarning: Precision is ill-defined and being set to 0.0 in labels with no predicted samples.\n",
      "  'precision', 'predicted', average, warn_for)\n"
     ]
    }
   ],
   "source": [
    "ii_prob_neg_prec_ingr = precision_score(bin_test_ingr_labels, bin_test_ingr_predictions, average=None)"
   ]
  },
  {
   "cell_type": "markdown",
   "metadata": {},
   "source": [
    "#### Dish-Ingredient Ingredient-Ingredient Probabilities Negative"
   ]
  },
  {
   "cell_type": "code",
   "execution_count": 352,
   "metadata": {},
   "outputs": [],
   "source": [
    "test_ingr_predictions = []\n",
    "with open('../results/precision_ingredients/pred_food_multitask_dish_ingr_ingr_ingr_ont_neg.txt','r') as f:\n",
    "    for line in f:\n",
    "        test_ingr_predictions.append(line.replace('\\n',''))\n",
    "        \n",
    "bin_test_ingr_predictions = binarize_labels(test_ingr_predictions, mlb)"
   ]
  },
  {
   "cell_type": "code",
   "execution_count": 353,
   "metadata": {},
   "outputs": [
    {
     "name": "stdout",
     "output_type": "stream",
     "text": [
      "Confusion Matrix\n",
      "\n",
      "[[[6.05760508e-01 1.55718125e+00]\n",
      "  [1.71605685e-02 9.32218573e-01]]\n",
      "\n",
      " [[9.68665353e-01 1.52852853e+00]\n",
      "  [5.20192071e-03 7.46246246e-01]]\n",
      "\n",
      " [[9.36372328e-01 2.82216142e+00]\n",
      "  [1.08564908e-02 5.18467852e-01]]\n",
      "\n",
      " ...\n",
      "\n",
      " [[9.99818242e-01 4.19580420e-02]\n",
      "  [7.27030384e-04 8.32167832e-01]]\n",
      "\n",
      " [[9.99969815e-01 4.00000000e-02]\n",
      "  [7.54625857e-04 0.00000000e+00]]\n",
      "\n",
      " [[1.00000000e+00 0.00000000e+00]\n",
      "  [6.03281853e-05 0.00000000e+00]]]\n",
      "\n",
      "Precision for each ingredient (first 10)\n",
      "\n"
     ]
    },
    {
     "data": {
      "text/plain": [
       "array([0.60576051, 0.96866535, 0.93637233, 0.99909118, 0.99394847,\n",
       "       1.        , 1.        , 0.99719101, 0.9536951 , 0.98063375])"
      ]
     },
     "execution_count": 353,
     "metadata": {},
     "output_type": "execute_result"
    }
   ],
   "source": [
    "cm_1 = multilabel_confusion_matrix(bin_test_ingr_labels, bin_test_ingr_predictions)\n",
    "cm_1 = np.array([cm.astype('float') / cm.sum(axis=1) for cm in cm_1 if cm.sum(axis=1)[0] != 0])\n",
    "print('Confusion Matrix\\n')\n",
    "print(cm_1)\n",
    "print('\\nPrecision for each ingredient (first 10)\\n')\n",
    "di_ii_prob_neg_prec_ingr = cm_1[:,0,0]\n",
    "di_ii_prob_neg_prec_ingr[:10]"
   ]
  },
  {
   "cell_type": "code",
   "execution_count": 354,
   "metadata": {},
   "outputs": [
    {
     "name": "stderr",
     "output_type": "stream",
     "text": [
      "C:\\Anaconda3\\lib\\site-packages\\sklearn\\metrics\\classification.py:1437: UndefinedMetricWarning: Precision is ill-defined and being set to 0.0 in labels with no predicted samples.\n",
      "  'precision', 'predicted', average, warn_for)\n"
     ]
    }
   ],
   "source": [
    "di_ii_prob_neg_prec_ingr = precision_score(bin_test_ingr_labels, bin_test_ingr_predictions, average=None)"
   ]
  },
  {
   "cell_type": "code",
   "execution_count": 371,
   "metadata": {},
   "outputs": [
    {
     "name": "stdout",
     "output_type": "stream",
     "text": [
      "How many ingredients predicts more precisely the ontology model?\n",
      "DI probs:  149\n",
      "DI probs neg:  150\n",
      "II probs neg:  168\n",
      "DI-II probs neg:  150\n"
     ]
    }
   ],
   "source": [
    "print('How many ingredients predicts more precisely the ontology model?')\n",
    "print('DI probs: ',sum(mtl_prec_ingr < di_prob_prec_ingr))\n",
    "print('DI probs neg: ',sum(mtl_prec_ingr < di_prob_neg_prec_ingr))\n",
    "print('II probs neg: ',sum(mtl_prec_ingr < ii_prob_neg_prec_ingr))\n",
    "print('DI-II probs neg: ',sum(mtl_prec_ingr < di_ii_prob_neg_prec_ingr))"
   ]
  },
  {
   "cell_type": "code",
   "execution_count": 356,
   "metadata": {},
   "outputs": [
    {
     "name": "stdout",
     "output_type": "stream",
     "text": [
      "['Spiced corned egg', 'Shredded chicken', 'Bullfrog', 'White fungus', 'Egg drop', 'Laver', 'Chicken chunks', 'Pork leg', 'Steamed Bun', 'Black rice']\n",
      "[0.31135531 0.31171171 0.3206951  0.39379475 0.46381579 0.47474747\n",
      " 0.32229496 0.28385699 0.6635514  0.14414414]\n",
      "[0.82089552 0.81578947 0.70725995 0.75348837 0.82278481 0.81761006\n",
      " 0.6531401  0.60511364 0.96785714 0.44444444]\n"
     ]
    }
   ],
   "source": [
    "idxs = (di_ii_prob_neg_prec_ingr - mtl_prec_ingr).argsort()[::-1][:10]\n",
    "sel_ingr_labels = np.array(ingredient_labels)[idxs.astype(int)].tolist()\n",
    "print(sel_ingr_labels)\n",
    "sel_mtl_prec_ingr = mtl_prec_ingr[idxs]\n",
    "print(sel_mtl_prec_ingr)\n",
    "sel_di_ii_prob_neg_prec_ingr = di_ii_prob_neg_prec_ingr[idxs]\n",
    "print(sel_di_ii_prob_neg_prec_ingr)"
   ]
  },
  {
   "cell_type": "code",
   "execution_count": 364,
   "metadata": {},
   "outputs": [
    {
     "data": {
      "image/png": "[encoded data removed]",
      "text/plain": [
       "<Figure size 1080x720 with 1 Axes>"
      ]
     },
     "metadata": {},
     "output_type": "display_data"
    }
   ],
   "source": [
    "SMALL_SIZE = 10\n",
    "MEDIUM_SIZE = 20\n",
    "BIGGER_SIZE = 30\n",
    "\n",
    "sel_mtl_prec_ingr = [round(i,2) for i in sel_mtl_prec_ingr]\n",
    "sel_di_ii_prob_neg_prec_ingr = [round(i,2) for i in sel_di_ii_prob_neg_prec_ingr]\n",
    "\n",
    "x = np.arange(len(sel_ingr_labels))  # the label locations\n",
    "width = 0.35  # the width of the bars\n",
    "\n",
    "fig, ax = plt.subplots(figsize=(15,10))\n",
    "rects1 = ax.bar(x - width/2, sel_mtl_prec_ingr, width, label='MTL', color='#F7BE81')\n",
    "rects2 = ax.bar(x + width/2, sel_di_ii_prob_neg_prec_ingr, width, label='DI-II', color='#FF8000')\n",
    "\n",
    "# Add some text for labels, title and custom x-axis tick labels, etc.\n",
    "ax.set_ylabel('Scores', size=MEDIUM_SIZE)\n",
    "ax.set_title('Precision on Multi Label', size=BIGGER_SIZE)\n",
    "ax.set_xticks(x)\n",
    "ax.set_xticklabels(sel_ingr_labels, rotation=90, size=MEDIUM_SIZE)\n",
    "ax.legend(fontsize=MEDIUM_SIZE,loc='upper left', bbox_to_anchor=(1,1))\n",
    "ax.tick_params(labelsize=MEDIUM_SIZE)\n",
    "\n",
    "\n",
    "def autolabel(rects):\n",
    "    \n",
    "    for rect in rects:\n",
    "        height = rect.get_height()\n",
    "        ax.annotate('{}'.format(height),\n",
    "                    xy=(rect.get_x() + rect.get_width() / 2, height),\n",
    "                    xytext=(0, 3),  # 3 points vertical offset\n",
    "                    textcoords=\"offset points\",\n",
    "                    ha='center', va='bottom', size=MEDIUM_SIZE)\n",
    "\n",
    "\n",
    "autolabel(rects1)\n",
    "autolabel(rects2)\n",
    "\n",
    "fig.tight_layout()\n",
    "fig.savefig('precision_ML_comparison.jpeg')\n",
    "\n",
    "plt.show()"
   ]
  },
  {
   "cell_type": "code",
   "execution_count": null,
   "metadata": {},
   "outputs": [],
   "source": []
  }
 ],
 "metadata": {
  "kernelspec": {
   "display_name": "Python 3",
   "language": "python",
   "name": "python3"
  },
  "language_info": {
   "codemirror_mode": {
    "name": "ipython",
    "version": 3
   },
   "file_extension": ".py",
   "mimetype": "text/x-python",
   "name": "python",
   "nbconvert_exporter": "python",
   "pygments_lexer": "ipython3",
   "version": "3.6.5"
  }
 },
 "nbformat": 4,
 "nbformat_minor": 2
}
