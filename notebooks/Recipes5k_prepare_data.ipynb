{
 "cells": [
  {
   "cell_type": "code",
   "execution_count": 1,
   "metadata": {},
   "outputs": [],
   "source": [
    "import pandas as pd\n",
    "import numpy as np\n",
    "import os"
   ]
  },
  {
   "cell_type": "code",
   "execution_count": 2,
   "metadata": {},
   "outputs": [],
   "source": [
    "def Prepr_1_Dish_Ingr(dir_source, dir_save):\n",
    "    \n",
    "    dishes = open(dir_source+'train_images.txt','r')\n",
    "    index = open(dir_source+'train_labels.txt','r')\n",
    "    ingredients = open(dir_source+'ingredients_simplified_Recipes5k.txt','r')\n",
    "\n",
    "    dish_ingr_rel = open(dir_save+'dish_ingredient_relation.txt','w')\n",
    "\n",
    "    dish_name = dishes.readlines()\n",
    "    idxs = index.readlines()\n",
    "    dish_ingredients = ingredients.readlines() \n",
    "    \n",
    "    for i in range(len(idxs)):\n",
    "        \n",
    "        dish = dish_name[i].split('/')[0]\n",
    "        #print(dish)\n",
    "        ingredients = dish_ingredients[int(idxs[i])-1].replace('\\n','').split(',')\n",
    "        \n",
    "        for ingr in ingredients:\n",
    "            \n",
    "            dish_ingr_rel.write(str(dish)+','+str(ingr)+'\\n')\n",
    "    \n",
    "    \n",
    "    dish_ingr_rel.close()\n",
    "    \n",
    "def Prepr_2_Dish_Ingr_Occ(directory,dir_save):\n",
    "    \n",
    "    dish_ingr_df = pd.read_csv(directory+'dish_ingredient_relation.txt',sep=',',names=['Dish','Ingredient'])\n",
    "    dish_ingr_df['Occurrence'] = 1\n",
    "    dish_ingr_df = dish_ingr_df.groupby(['Dish','Ingredient']).count()\n",
    "    dish_ingr_df.to_csv(dir_save+'dish_ingredient_occurrences.csv')\n",
    "    \n",
    "def tuple_dish_ingr(directory, dir_save):\n",
    "\n",
    "    dishes = open(directory+'train_images.txt','r')\n",
    "    index = open(directory+'train_labels.txt','r')\n",
    "    ingredients = open(directory+'ingredients_simplified_Recipes5k.txt','r')\n",
    "    \n",
    "    dish_name = dishes.readlines()\n",
    "    idxs = index.readlines()\n",
    "    dish_ingredients = ingredients.readlines() \n",
    "\n",
    "    f = open(dir_save+'tuple_dish_ingredients.txt','w')\n",
    "    \n",
    "    for i in range(len(idxs)):\n",
    "    \n",
    "        dish = dish_name[i].split('/')[0]\n",
    "        ingredients = dish_ingredients[int(idxs[i])-1].replace('\\n','').split(',')\n",
    "    \n",
    "        f.write(str(dish)+'|'+str(ingredients)+'\\n')\n",
    "    \n",
    "    f.close()"
   ]
  },
  {
   "cell_type": "code",
   "execution_count": 3,
   "metadata": {},
   "outputs": [],
   "source": [
    "if not os.path.isdir('../datasets/Recipes5k/mtannotations/'):\n",
    "    os.mkdir('../datasets/Recipes5k/mtannotations/')"
   ]
  },
  {
   "cell_type": "markdown",
   "metadata": {},
   "source": [
    "Generate files which contain dish-ingredient relation, dish-ingredient occurrences and the tuples of dish-ingredient labels for each recipe."
   ]
  },
  {
   "cell_type": "code",
   "execution_count": 4,
   "metadata": {},
   "outputs": [],
   "source": [
    "dir_recipe5k = '../datasets/Recipes5K/annotations/'\n",
    "dir_save = '../datasets/Recipes5k/mtannotations/'\n",
    "\n",
    "Prepr_1_Dish_Ingr(dir_recipe5k, dir_save)\n",
    "Prepr_2_Dish_Ingr_Occ(dir_save,dir_save)\n",
    "tuple_dish_ingr(dir_recipe5k,dir_save)"
   ]
  },
  {
   "cell_type": "markdown",
   "metadata": {},
   "source": [
    "## 1 - Probability of Ingredient given a Dish (Top-Down)"
   ]
  },
  {
   "cell_type": "markdown",
   "metadata": {},
   "source": [
    "## Dish Counts"
   ]
  },
  {
   "cell_type": "code",
   "execution_count": 5,
   "metadata": {},
   "outputs": [],
   "source": [
    "train_images = open('../datasets/Recipes5k/annotations/train_images.txt','r')\n",
    "images_list = train_images.readlines()\n",
    "\n",
    "dishes = [image.split('/')[0] for image in images_list]\n",
    "dishes_df = pd.DataFrame(dishes, columns = ['Dish'])\n",
    "dish_count = dishes_df.groupby(['Dish']).size().reset_index(name = 'count')\n",
    "dish_count.to_csv('../datasets/Recipes5k/mtannotations/dish_count.csv')"
   ]
  },
  {
   "cell_type": "markdown",
   "metadata": {},
   "source": [
    "## Specific dishes"
   ]
  },
  {
   "cell_type": "markdown",
   "metadata": {},
   "source": [
    "##### Count the number of recipes for each dish"
   ]
  },
  {
   "cell_type": "code",
   "execution_count": 6,
   "metadata": {},
   "outputs": [],
   "source": [
    "dish_names = pd.read_csv('../datasets/Recipes5k/mtannotations/dish_count.csv')\n",
    "\n",
    "# desserts = ['apple_pie', 'bread_pudding', 'carrot_cake', 'cannoli','cheesecake',\n",
    "#            'chocolate_cake','chocolate_ice_cream','chocolate_mousse','churros',\n",
    "#            'cupcakes','donuts','frozen_yogurt','macarons','panna_cotta',\n",
    "#            'pancakes','red_velvet_cake','strawberry_shortcake','tiramisu','waffles']\n",
    "\n",
    "# desserts\n",
    "sel_dishes = ['apple_pie','carrot_cake','cheesecake','chocolate_mousse','tiramisu','panna_cotta',\n",
    "            'waffles','red_velvet_cake','cupcakes','frozen_yogurt']\n",
    "\n",
    "dish_names[dish_names.Dish.isin(sel_dishes)][['Dish','count']].to_csv('../datasets/Recipes5k/mtannotations/10_dish_count.csv', index = False)"
   ]
  },
  {
   "cell_type": "code",
   "execution_count": 7,
   "metadata": {},
   "outputs": [],
   "source": [
    "sel_dish_count = pd.read_csv('../datasets/Recipes5k/mtannotations/10_dish_count.csv')"
   ]
  },
  {
   "cell_type": "markdown",
   "metadata": {},
   "source": [
    "##### Dish - Ingredient Occurrences"
   ]
  },
  {
   "cell_type": "code",
   "execution_count": 8,
   "metadata": {},
   "outputs": [],
   "source": [
    "#load file with dish-ingredient occurrences\n",
    "#obtained with Prepr_2_Dish_Ingr_Occurrences\n",
    "dish_ingr_occ = pd.read_csv('../datasets/Recipes5k/mtannotations/dish_ingredient_occurrences.csv')\n",
    "\n",
    "#select dishes\n",
    "sel_dish_ingr_occ = dish_ingr_occ[dish_ingr_occ.Dish.isin(sel_dishes)]"
   ]
  },
  {
   "cell_type": "markdown",
   "metadata": {},
   "source": [
    "We are using base ingredients, then the number of dish-base ingredient occurrences might be larger than the number of recipes for each dish. This is because in each recipe the same base ingredient could be used in more than one derived ingredient."
   ]
  },
  {
   "cell_type": "code",
   "execution_count": 9,
   "metadata": {},
   "outputs": [],
   "source": [
    "dishes_tbl_df = sel_dish_ingr_occ.merge(sel_dish_count, how = 'left', left_on='Dish' , right_on='Dish')"
   ]
  },
  {
   "cell_type": "code",
   "execution_count": 10,
   "metadata": {},
   "outputs": [],
   "source": [
    "def Ingredient_Probability(df):\n",
    "    \n",
    "    if df['Occurrence']/df['count'] < 1:\n",
    "        \n",
    "        prob = df['Occurrence']/df['count']\n",
    "        \n",
    "    else:\n",
    "        \n",
    "        prob = 1\n",
    "        \n",
    "    return prob"
   ]
  },
  {
   "cell_type": "markdown",
   "metadata": {},
   "source": [
    "Calculate the probability in a frequentist way"
   ]
  },
  {
   "cell_type": "code",
   "execution_count": 11,
   "metadata": {},
   "outputs": [],
   "source": [
    "dishes_tbl_df['Ingredient Probability'] = dishes_tbl_df.apply(Ingredient_Probability, axis=1)"
   ]
  },
  {
   "cell_type": "code",
   "execution_count": 12,
   "metadata": {},
   "outputs": [],
   "source": [
    "dishes_tbl_df = dishes_tbl_df[['Dish','Ingredient','Ingredient Probability']]"
   ]
  },
  {
   "cell_type": "code",
   "execution_count": 13,
   "metadata": {},
   "outputs": [],
   "source": [
    "f = open('../datasets/Recipes5k/mtannotations/dish_ingr_probabilities.txt','w')\n",
    "\n",
    "f.write('Dish, Ingredient, Ingredient Probability\\n')\n",
    "\n",
    "for elem in dishes_tbl_df.values:\n",
    "    \n",
    "    dish_ingr = (elem[0],elem[1])\n",
    "    f.write(str((dish_ingr, elem[2]))+'\\n')\n",
    "    \n",
    "f.close()"
   ]
  },
  {
   "cell_type": "markdown",
   "metadata": {},
   "source": [
    "## 2 - Probability of a Dish given an Ingredient (Bottom-Up)"
   ]
  },
  {
   "cell_type": "code",
   "execution_count": 14,
   "metadata": {},
   "outputs": [],
   "source": [
    "dish_ingr_df = pd.read_csv('../datasets/Recipes5k/mtannotations/dish_ingredient_relation.txt',sep=',',names=['Dish','Ingredient'])"
   ]
  },
  {
   "cell_type": "code",
   "execution_count": 15,
   "metadata": {},
   "outputs": [],
   "source": [
    "dish_ingr_copy_df = dish_ingr_df.copy()\n",
    "dish_ingr_copy_df = dish_ingr_copy_df[dish_ingr_copy_df.Dish.isin(sel_dishes)]\n",
    "dish_ingr_copy_df['Occurrence'] = 1\n",
    "#\n",
    "Ingr_occurrences_df = dish_ingr_copy_df[['Ingredient','Occurrence']].groupby(['Ingredient']).count()\n",
    "#\n",
    "Dish_Ingr_occurrences_df = dish_ingr_copy_df[['Ingredient','Dish','Occurrence']].groupby(['Ingredient','Dish']).count()"
   ]
  },
  {
   "cell_type": "code",
   "execution_count": 16,
   "metadata": {},
   "outputs": [],
   "source": [
    "Ingr_occurrences_df = Ingr_occurrences_df.rename(columns={\"Occurrence\":\"Times Ingredient in the Ontology\"})\n",
    "Dish_Ingr_occurrences_df = Dish_Ingr_occurrences_df.rename(columns={\"Occurrence\":\"Times Ingredient in the Recipe Dish\"})"
   ]
  },
  {
   "cell_type": "code",
   "execution_count": 17,
   "metadata": {},
   "outputs": [],
   "source": [
    "dish_ingr_df = dish_ingr_df[dish_ingr_df.Dish.isin(sel_dishes)]\n",
    "dish_ingr_df = dish_ingr_df.drop_duplicates()\n",
    "Ingr_Dish_df = dish_ingr_df[['Ingredient','Dish']]\n",
    "Ingr_occurrence_ontology = Ingr_Dish_df.merge(Ingr_occurrences_df, how='left', left_on = 'Ingredient', right_index=True)\n",
    "Ingr_Dish_occurrence_df = Ingr_occurrence_ontology.merge(Dish_Ingr_occurrences_df, how='left', left_on=['Ingredient','Dish'], right_index=True)"
   ]
  },
  {
   "cell_type": "code",
   "execution_count": 18,
   "metadata": {},
   "outputs": [
    {
     "data": {
      "text/html": [
       "<div>\n",
       "<style scoped>\n",
       "    .dataframe tbody tr th:only-of-type {\n",
       "        vertical-align: middle;\n",
       "    }\n",
       "\n",
       "    .dataframe tbody tr th {\n",
       "        vertical-align: top;\n",
       "    }\n",
       "\n",
       "    .dataframe thead th {\n",
       "        text-align: right;\n",
       "    }\n",
       "</style>\n",
       "<table border=\"1\" class=\"dataframe\">\n",
       "  <thead>\n",
       "    <tr style=\"text-align: right;\">\n",
       "      <th></th>\n",
       "      <th>Ingredient</th>\n",
       "      <th>Dish</th>\n",
       "      <th>Times Ingredient in the Ontology</th>\n",
       "      <th>Times Ingredient in the Recipe Dish</th>\n",
       "    </tr>\n",
       "  </thead>\n",
       "  <tbody>\n",
       "    <tr>\n",
       "      <th>119</th>\n",
       "      <td>maple</td>\n",
       "      <td>apple_pie</td>\n",
       "      <td>1</td>\n",
       "      <td>1</td>\n",
       "    </tr>\n",
       "  </tbody>\n",
       "</table>\n",
       "</div>"
      ],
      "text/plain": [
       "    Ingredient       Dish  Times Ingredient in the Ontology  \\\n",
       "119      maple  apple_pie                                 1   \n",
       "\n",
       "     Times Ingredient in the Recipe Dish  \n",
       "119                                    1  "
      ]
     },
     "execution_count": 18,
     "metadata": {},
     "output_type": "execute_result"
    }
   ],
   "source": [
    "Ingr_Dish_occurrence_df[Ingr_Dish_occurrence_df.Ingredient == 'maple']"
   ]
  },
  {
   "cell_type": "code",
   "execution_count": 19,
   "metadata": {},
   "outputs": [],
   "source": [
    "def Dish_probability(df):\n",
    "    \n",
    "    prob = df['Times Ingredient in the Recipe Dish']/df['Times Ingredient in the Ontology']\n",
    "    \n",
    "    return prob"
   ]
  },
  {
   "cell_type": "code",
   "execution_count": 20,
   "metadata": {},
   "outputs": [],
   "source": [
    "Ingr_Dish_Bottom_Up_Probability_df = Ingr_Dish_occurrence_df.copy()\n",
    "Ingr_Dish_Bottom_Up_Probability_df['Probability Ingr-Dish bottom-up'] = Ingr_Dish_Bottom_Up_Probability_df.apply(Dish_probability,axis=1)\n",
    "Ingr_Dish_Bottom_Up_Probability_df = Ingr_Dish_Bottom_Up_Probability_df[['Ingredient','Dish','Probability Ingr-Dish bottom-up']]"
   ]
  },
  {
   "cell_type": "code",
   "execution_count": 21,
   "metadata": {},
   "outputs": [],
   "source": [
    "f = open('../datasets/Recipes5k/mtannotations/ingr_dish_probabilities.txt','w')\n",
    "\n",
    "f.write('Ingredient, Dish, Ingr-Dish Prob\\n')\n",
    "\n",
    "for elem in Ingr_Dish_Bottom_Up_Probability_df.values:\n",
    "    \n",
    "    f.write(str(elem[0])+','+str(elem[1])+','+str(elem[2])+'\\n')\n",
    "    \n",
    "f.close()"
   ]
  },
  {
   "cell_type": "markdown",
   "metadata": {},
   "source": [
    "## 3 - Probability of Ingredients Coexistence"
   ]
  },
  {
   "cell_type": "markdown",
   "metadata": {},
   "source": [
    "https://stackoverflow.com/questions/942543/operation-on-every-pair-of-element-in-a-list"
   ]
  },
  {
   "cell_type": "code",
   "execution_count": 22,
   "metadata": {},
   "outputs": [],
   "source": [
    "#Functions\n",
    "\n",
    "def all_possible_pair_excluding_duplicates_unique(list_of_values):\n",
    "    \n",
    "    result = [(list_of_values[p1], list_of_values[p2]) for p1 in range(len(list_of_values)) for p2 in range(p1+1,len(list_of_values)) if list_of_values[p1] != list_of_values[p2]]\n",
    "    \n",
    "    return result\n",
    "\n",
    "def explode_ingredients(df, col_expl):\n",
    "    #explode the ingredients of a recipe\n",
    "    \n",
    "    df[col_expl] = df.loc[:,col_expl].apply(lambda x: x.replace('[','').replace(']',''))\n",
    "    df[col_expl] = df.loc[:,col_expl].apply(lambda x: x.replace('\\'','').replace(' ','').split(','))\n",
    "    \n",
    "    df[col_expl] = df[col_expl].apply(all_possible_pair_excluding_duplicates_unique)\n",
    "    \n",
    "    df_out = pd.DataFrame(\n",
    "        {col: np.repeat(df[col].values,\n",
    "                        df[col_expl].str.len())\n",
    "         for col in df.columns})\n",
    "\n",
    "    index = 0\n",
    "\n",
    "\n",
    "    for i in range(len(df)):\n",
    "        for j in range(len(df[col_expl].values[i])):\n",
    "             \n",
    "            df_out.loc[index,col_expl] = tuple(sorted(df[col_expl].values[i][j]))\n",
    "            index +=1\n",
    "            \n",
    "    return df_out"
   ]
  },
  {
   "cell_type": "code",
   "execution_count": 23,
   "metadata": {},
   "outputs": [],
   "source": [
    "#load file with dish-ingredient occurrences\n",
    "dish_recipe_file = pd.read_csv('../datasets/Recipes5k/mtannotations/tuple_dish_ingredients.txt', sep='|', header = None)\n",
    "dish_recipe_file.columns = ['Dish','Ingredients']\n",
    "# desserts\n",
    "sel_dishes = ['apple_pie','carrot_cake','cheesecake','chocolate_mousse','tiramisu','panna_cotta',\n",
    "            'waffles','red_velvet_cake','cupcakes','frozen_yogurt']\n",
    "\n",
    "dish_recipe_file = dish_recipe_file[dish_recipe_file.Dish.isin(sel_dishes)]"
   ]
  },
  {
   "cell_type": "code",
   "execution_count": 24,
   "metadata": {},
   "outputs": [
    {
     "data": {
      "text/html": [
       "<div>\n",
       "<style scoped>\n",
       "    .dataframe tbody tr th:only-of-type {\n",
       "        vertical-align: middle;\n",
       "    }\n",
       "\n",
       "    .dataframe tbody tr th {\n",
       "        vertical-align: top;\n",
       "    }\n",
       "\n",
       "    .dataframe thead th {\n",
       "        text-align: right;\n",
       "    }\n",
       "</style>\n",
       "<table border=\"1\" class=\"dataframe\">\n",
       "  <thead>\n",
       "    <tr style=\"text-align: right;\">\n",
       "      <th></th>\n",
       "      <th>Dish</th>\n",
       "      <th>Ingredients</th>\n",
       "    </tr>\n",
       "  </thead>\n",
       "  <tbody>\n",
       "    <tr>\n",
       "      <th>0</th>\n",
       "      <td>apple_pie</td>\n",
       "      <td>['apple', 'margarine', 'flour', 'water', 'oats...</td>\n",
       "    </tr>\n",
       "    <tr>\n",
       "      <th>1</th>\n",
       "      <td>apple_pie</td>\n",
       "      <td>['nut', 'cinnamon', 'apple', 'sugar', 'flour',...</td>\n",
       "    </tr>\n",
       "    <tr>\n",
       "      <th>2</th>\n",
       "      <td>apple_pie</td>\n",
       "      <td>['apple', 'flour', 'sugar', 'salt', 'gin', 'ci...</td>\n",
       "    </tr>\n",
       "    <tr>\n",
       "      <th>3</th>\n",
       "      <td>apple_pie</td>\n",
       "      <td>['apple', 'sugar', 'cinnamon', 'lemon', 'flour...</td>\n",
       "    </tr>\n",
       "    <tr>\n",
       "      <th>4</th>\n",
       "      <td>apple_pie</td>\n",
       "      <td>['pie', 'apple', 'cinnamon', 'water', 'vanilla...</td>\n",
       "    </tr>\n",
       "  </tbody>\n",
       "</table>\n",
       "</div>"
      ],
      "text/plain": [
       "        Dish                                        Ingredients\n",
       "0  apple_pie  ['apple', 'margarine', 'flour', 'water', 'oats...\n",
       "1  apple_pie  ['nut', 'cinnamon', 'apple', 'sugar', 'flour',...\n",
       "2  apple_pie  ['apple', 'flour', 'sugar', 'salt', 'gin', 'ci...\n",
       "3  apple_pie  ['apple', 'sugar', 'cinnamon', 'lemon', 'flour...\n",
       "4  apple_pie  ['pie', 'apple', 'cinnamon', 'water', 'vanilla..."
      ]
     },
     "execution_count": 24,
     "metadata": {},
     "output_type": "execute_result"
    }
   ],
   "source": [
    "dish_recipe_file.head()"
   ]
  },
  {
   "cell_type": "code",
   "execution_count": 25,
   "metadata": {},
   "outputs": [
    {
     "data": {
      "text/html": [
       "<div>\n",
       "<style scoped>\n",
       "    .dataframe tbody tr th:only-of-type {\n",
       "        vertical-align: middle;\n",
       "    }\n",
       "\n",
       "    .dataframe tbody tr th {\n",
       "        vertical-align: top;\n",
       "    }\n",
       "\n",
       "    .dataframe thead th {\n",
       "        text-align: right;\n",
       "    }\n",
       "</style>\n",
       "<table border=\"1\" class=\"dataframe\">\n",
       "  <thead>\n",
       "    <tr style=\"text-align: right;\">\n",
       "      <th></th>\n",
       "      <th>Dish</th>\n",
       "      <th>Ingredients</th>\n",
       "    </tr>\n",
       "  </thead>\n",
       "  <tbody>\n",
       "    <tr>\n",
       "      <th>0</th>\n",
       "      <td>apple_pie</td>\n",
       "      <td>(apple, margarine)</td>\n",
       "    </tr>\n",
       "    <tr>\n",
       "      <th>1</th>\n",
       "      <td>apple_pie</td>\n",
       "      <td>(apple, flour)</td>\n",
       "    </tr>\n",
       "    <tr>\n",
       "      <th>2</th>\n",
       "      <td>apple_pie</td>\n",
       "      <td>(apple, water)</td>\n",
       "    </tr>\n",
       "    <tr>\n",
       "      <th>3</th>\n",
       "      <td>apple_pie</td>\n",
       "      <td>(apple, oats)</td>\n",
       "    </tr>\n",
       "    <tr>\n",
       "      <th>4</th>\n",
       "      <td>apple_pie</td>\n",
       "      <td>(apple, sugar)</td>\n",
       "    </tr>\n",
       "  </tbody>\n",
       "</table>\n",
       "</div>"
      ],
      "text/plain": [
       "        Dish         Ingredients\n",
       "0  apple_pie  (apple, margarine)\n",
       "1  apple_pie      (apple, flour)\n",
       "2  apple_pie      (apple, water)\n",
       "3  apple_pie       (apple, oats)\n",
       "4  apple_pie      (apple, sugar)"
      ]
     },
     "execution_count": 25,
     "metadata": {},
     "output_type": "execute_result"
    }
   ],
   "source": [
    "df_dish = explode_ingredients(dish_recipe_file,'Ingredients')\n",
    "\n",
    "df_dish.head()"
   ]
  },
  {
   "cell_type": "code",
   "execution_count": 26,
   "metadata": {},
   "outputs": [
    {
     "data": {
      "text/plain": [
       "17109"
      ]
     },
     "execution_count": 26,
     "metadata": {},
     "output_type": "execute_result"
    }
   ],
   "source": [
    "len(df_dish)"
   ]
  },
  {
   "cell_type": "code",
   "execution_count": 27,
   "metadata": {},
   "outputs": [],
   "source": [
    "df_dish.to_csv('../datasets/Recipes5k/mtannotations/pair_ingredients.csv')"
   ]
  },
  {
   "cell_type": "markdown",
   "metadata": {},
   "source": [
    "## Pair Ingredients"
   ]
  },
  {
   "cell_type": "code",
   "execution_count": 28,
   "metadata": {},
   "outputs": [
    {
     "data": {
      "text/html": [
       "<div>\n",
       "<style scoped>\n",
       "    .dataframe tbody tr th:only-of-type {\n",
       "        vertical-align: middle;\n",
       "    }\n",
       "\n",
       "    .dataframe tbody tr th {\n",
       "        vertical-align: top;\n",
       "    }\n",
       "\n",
       "    .dataframe thead th {\n",
       "        text-align: right;\n",
       "    }\n",
       "</style>\n",
       "<table border=\"1\" class=\"dataframe\">\n",
       "  <thead>\n",
       "    <tr style=\"text-align: right;\">\n",
       "      <th></th>\n",
       "      <th>Dish</th>\n",
       "      <th>Ingredients</th>\n",
       "    </tr>\n",
       "  </thead>\n",
       "  <tbody>\n",
       "    <tr>\n",
       "      <th>0</th>\n",
       "      <td>apple_pie</td>\n",
       "      <td>('apple', 'margarine')</td>\n",
       "    </tr>\n",
       "    <tr>\n",
       "      <th>1</th>\n",
       "      <td>apple_pie</td>\n",
       "      <td>('apple', 'flour')</td>\n",
       "    </tr>\n",
       "    <tr>\n",
       "      <th>2</th>\n",
       "      <td>apple_pie</td>\n",
       "      <td>('apple', 'water')</td>\n",
       "    </tr>\n",
       "    <tr>\n",
       "      <th>3</th>\n",
       "      <td>apple_pie</td>\n",
       "      <td>('apple', 'oats')</td>\n",
       "    </tr>\n",
       "    <tr>\n",
       "      <th>4</th>\n",
       "      <td>apple_pie</td>\n",
       "      <td>('apple', 'sugar')</td>\n",
       "    </tr>\n",
       "  </tbody>\n",
       "</table>\n",
       "</div>"
      ],
      "text/plain": [
       "        Dish             Ingredients\n",
       "0  apple_pie  ('apple', 'margarine')\n",
       "1  apple_pie      ('apple', 'flour')\n",
       "2  apple_pie      ('apple', 'water')\n",
       "3  apple_pie       ('apple', 'oats')\n",
       "4  apple_pie      ('apple', 'sugar')"
      ]
     },
     "execution_count": 28,
     "metadata": {},
     "output_type": "execute_result"
    }
   ],
   "source": [
    "df_pair_ingredients = pd.read_csv('../datasets/Recipes5k/mtannotations/pair_ingredients.csv')\n",
    "df_pair_ingredients = df_pair_ingredients[['Dish','Ingredients']]\n",
    "df_pair_ingredients.head()"
   ]
  },
  {
   "cell_type": "markdown",
   "metadata": {},
   "source": [
    "#### 1 - Different pairs in a recipe"
   ]
  },
  {
   "cell_type": "code",
   "execution_count": 29,
   "metadata": {},
   "outputs": [
    {
     "name": "stderr",
     "output_type": "stream",
     "text": [
      "C:\\Anaconda3\\lib\\site-packages\\pandas\\core\\indexing.py:362: SettingWithCopyWarning: \n",
      "A value is trying to be set on a copy of a slice from a DataFrame.\n",
      "Try using .loc[row_indexer,col_indexer] = value instead\n",
      "\n",
      "See the caveats in the documentation: http://pandas.pydata.org/pandas-docs/stable/indexing.html#indexing-view-versus-copy\n",
      "  self.obj[key] = _infer_fill_value(value)\n",
      "C:\\Anaconda3\\lib\\site-packages\\pandas\\core\\indexing.py:543: SettingWithCopyWarning: \n",
      "A value is trying to be set on a copy of a slice from a DataFrame.\n",
      "Try using .loc[row_indexer,col_indexer] = value instead\n",
      "\n",
      "See the caveats in the documentation: http://pandas.pydata.org/pandas-docs/stable/indexing.html#indexing-view-versus-copy\n",
      "  self.obj[item] = s\n"
     ]
    }
   ],
   "source": [
    "df_unique_pair_ingredients = df_pair_ingredients.drop_duplicates()\n",
    "df_unique_pair_ingredients.loc[:,'count'] = 1\n",
    "df_unique_pair_ingredients[['Dish','count']].groupby(['Dish']).count().rename(columns={\"count\":\"different pairs\"})\n",
    "df_different_pair_ingredients = df_pair_ingredients[['Dish','Ingredients']].merge(df_unique_pair_ingredients[['Dish','count']].groupby(['Dish']).count().rename(columns={\"count\":\"different pairs\"}), how='left', left_on='Dish', right_index=True)"
   ]
  },
  {
   "cell_type": "code",
   "execution_count": 30,
   "metadata": {},
   "outputs": [
    {
     "data": {
      "text/html": [
       "<div>\n",
       "<style scoped>\n",
       "    .dataframe tbody tr th:only-of-type {\n",
       "        vertical-align: middle;\n",
       "    }\n",
       "\n",
       "    .dataframe tbody tr th {\n",
       "        vertical-align: top;\n",
       "    }\n",
       "\n",
       "    .dataframe thead th {\n",
       "        text-align: right;\n",
       "    }\n",
       "</style>\n",
       "<table border=\"1\" class=\"dataframe\">\n",
       "  <thead>\n",
       "    <tr style=\"text-align: right;\">\n",
       "      <th></th>\n",
       "      <th>different pairs</th>\n",
       "    </tr>\n",
       "    <tr>\n",
       "      <th>Dish</th>\n",
       "      <th></th>\n",
       "    </tr>\n",
       "  </thead>\n",
       "  <tbody>\n",
       "    <tr>\n",
       "      <th>apple_pie</th>\n",
       "      <td>285</td>\n",
       "    </tr>\n",
       "    <tr>\n",
       "      <th>carrot_cake</th>\n",
       "      <td>510</td>\n",
       "    </tr>\n",
       "    <tr>\n",
       "      <th>cheesecake</th>\n",
       "      <td>731</td>\n",
       "    </tr>\n",
       "    <tr>\n",
       "      <th>chocolate_mousse</th>\n",
       "      <td>176</td>\n",
       "    </tr>\n",
       "    <tr>\n",
       "      <th>cupcakes</th>\n",
       "      <td>666</td>\n",
       "    </tr>\n",
       "    <tr>\n",
       "      <th>frozen_yogurt</th>\n",
       "      <td>273</td>\n",
       "    </tr>\n",
       "    <tr>\n",
       "      <th>panna_cotta</th>\n",
       "      <td>439</td>\n",
       "    </tr>\n",
       "    <tr>\n",
       "      <th>red_velvet_cake</th>\n",
       "      <td>368</td>\n",
       "    </tr>\n",
       "    <tr>\n",
       "      <th>tiramisu</th>\n",
       "      <td>309</td>\n",
       "    </tr>\n",
       "    <tr>\n",
       "      <th>waffles</th>\n",
       "      <td>485</td>\n",
       "    </tr>\n",
       "  </tbody>\n",
       "</table>\n",
       "</div>"
      ],
      "text/plain": [
       "                  different pairs\n",
       "Dish                             \n",
       "apple_pie                     285\n",
       "carrot_cake                   510\n",
       "cheesecake                    731\n",
       "chocolate_mousse              176\n",
       "cupcakes                      666\n",
       "frozen_yogurt                 273\n",
       "panna_cotta                   439\n",
       "red_velvet_cake               368\n",
       "tiramisu                      309\n",
       "waffles                       485"
      ]
     },
     "execution_count": 30,
     "metadata": {},
     "output_type": "execute_result"
    }
   ],
   "source": [
    "df_unique_pair_ingredients[['Dish','count']].groupby(['Dish']).count().rename(columns={\"count\":\"different pairs\"})"
   ]
  },
  {
   "cell_type": "markdown",
   "metadata": {},
   "source": [
    "#### 2 - Times a pair appears in the recipe"
   ]
  },
  {
   "cell_type": "code",
   "execution_count": 31,
   "metadata": {},
   "outputs": [
    {
     "data": {
      "text/html": [
       "<div>\n",
       "<style scoped>\n",
       "    .dataframe tbody tr th:only-of-type {\n",
       "        vertical-align: middle;\n",
       "    }\n",
       "\n",
       "    .dataframe tbody tr th {\n",
       "        vertical-align: top;\n",
       "    }\n",
       "\n",
       "    .dataframe thead th {\n",
       "        text-align: right;\n",
       "    }\n",
       "</style>\n",
       "<table border=\"1\" class=\"dataframe\">\n",
       "  <thead>\n",
       "    <tr style=\"text-align: right;\">\n",
       "      <th></th>\n",
       "      <th>Dish</th>\n",
       "      <th>Ingredients</th>\n",
       "      <th>different pairs</th>\n",
       "      <th>times of the pair</th>\n",
       "    </tr>\n",
       "  </thead>\n",
       "  <tbody>\n",
       "    <tr>\n",
       "      <th>0</th>\n",
       "      <td>apple_pie</td>\n",
       "      <td>('apple', 'margarine')</td>\n",
       "      <td>285</td>\n",
       "      <td>3</td>\n",
       "    </tr>\n",
       "    <tr>\n",
       "      <th>1</th>\n",
       "      <td>apple_pie</td>\n",
       "      <td>('apple', 'flour')</td>\n",
       "      <td>285</td>\n",
       "      <td>33</td>\n",
       "    </tr>\n",
       "    <tr>\n",
       "      <th>2</th>\n",
       "      <td>apple_pie</td>\n",
       "      <td>('apple', 'water')</td>\n",
       "      <td>285</td>\n",
       "      <td>6</td>\n",
       "    </tr>\n",
       "    <tr>\n",
       "      <th>3</th>\n",
       "      <td>apple_pie</td>\n",
       "      <td>('apple', 'oats')</td>\n",
       "      <td>285</td>\n",
       "      <td>1</td>\n",
       "    </tr>\n",
       "    <tr>\n",
       "      <th>4</th>\n",
       "      <td>apple_pie</td>\n",
       "      <td>('apple', 'sugar')</td>\n",
       "      <td>285</td>\n",
       "      <td>30</td>\n",
       "    </tr>\n",
       "    <tr>\n",
       "      <th>5</th>\n",
       "      <td>apple_pie</td>\n",
       "      <td>('apple', 'cornstarch')</td>\n",
       "      <td>285</td>\n",
       "      <td>6</td>\n",
       "    </tr>\n",
       "    <tr>\n",
       "      <th>6</th>\n",
       "      <td>apple_pie</td>\n",
       "      <td>('apple', 'cinnamon')</td>\n",
       "      <td>285</td>\n",
       "      <td>38</td>\n",
       "    </tr>\n",
       "    <tr>\n",
       "      <th>7</th>\n",
       "      <td>apple_pie</td>\n",
       "      <td>('flour', 'margarine')</td>\n",
       "      <td>285</td>\n",
       "      <td>1</td>\n",
       "    </tr>\n",
       "    <tr>\n",
       "      <th>8</th>\n",
       "      <td>apple_pie</td>\n",
       "      <td>('margarine', 'water')</td>\n",
       "      <td>285</td>\n",
       "      <td>1</td>\n",
       "    </tr>\n",
       "    <tr>\n",
       "      <th>9</th>\n",
       "      <td>apple_pie</td>\n",
       "      <td>('margarine', 'oats')</td>\n",
       "      <td>285</td>\n",
       "      <td>1</td>\n",
       "    </tr>\n",
       "  </tbody>\n",
       "</table>\n",
       "</div>"
      ],
      "text/plain": [
       "        Dish              Ingredients  different pairs  times of the pair\n",
       "0  apple_pie   ('apple', 'margarine')              285                  3\n",
       "1  apple_pie       ('apple', 'flour')              285                 33\n",
       "2  apple_pie       ('apple', 'water')              285                  6\n",
       "3  apple_pie        ('apple', 'oats')              285                  1\n",
       "4  apple_pie       ('apple', 'sugar')              285                 30\n",
       "5  apple_pie  ('apple', 'cornstarch')              285                  6\n",
       "6  apple_pie    ('apple', 'cinnamon')              285                 38\n",
       "7  apple_pie   ('flour', 'margarine')              285                  1\n",
       "8  apple_pie   ('margarine', 'water')              285                  1\n",
       "9  apple_pie    ('margarine', 'oats')              285                  1"
      ]
     },
     "execution_count": 31,
     "metadata": {},
     "output_type": "execute_result"
    }
   ],
   "source": [
    "df_final_ingredients = df_pair_ingredients\n",
    "df_final_ingredients.loc[:,'count'] = 1\n",
    "df_final_ingredients = df_different_pair_ingredients.merge(df_final_ingredients.groupby(['Dish','Ingredients']).count().rename(columns={\"count\":\"times of the pair\"}), how='left', left_on=['Dish','Ingredients'], right_index=True)\n",
    "df_final_ingredients = df_final_ingredients.drop_duplicates()\n",
    "df_final_ingredients.head(10)"
   ]
  },
  {
   "cell_type": "markdown",
   "metadata": {},
   "source": [
    "### Compute the probability"
   ]
  },
  {
   "cell_type": "markdown",
   "metadata": {},
   "source": [
    "Compute the probability in a frequentist way"
   ]
  },
  {
   "cell_type": "code",
   "execution_count": 32,
   "metadata": {},
   "outputs": [],
   "source": [
    "def coexistence_probability(df):\n",
    "    \n",
    "    df['coexistence_probability'] = df['times of the pair']/df['different pairs']\n",
    "    \n",
    "    return df"
   ]
  },
  {
   "cell_type": "code",
   "execution_count": 33,
   "metadata": {},
   "outputs": [
    {
     "data": {
      "text/html": [
       "<div>\n",
       "<style scoped>\n",
       "    .dataframe tbody tr th:only-of-type {\n",
       "        vertical-align: middle;\n",
       "    }\n",
       "\n",
       "    .dataframe tbody tr th {\n",
       "        vertical-align: top;\n",
       "    }\n",
       "\n",
       "    .dataframe thead th {\n",
       "        text-align: right;\n",
       "    }\n",
       "</style>\n",
       "<table border=\"1\" class=\"dataframe\">\n",
       "  <thead>\n",
       "    <tr style=\"text-align: right;\">\n",
       "      <th></th>\n",
       "      <th>Dish</th>\n",
       "      <th>Ingredients</th>\n",
       "      <th>coexistence_probability</th>\n",
       "    </tr>\n",
       "  </thead>\n",
       "  <tbody>\n",
       "    <tr>\n",
       "      <th>0</th>\n",
       "      <td>apple_pie</td>\n",
       "      <td>('apple', 'margarine')</td>\n",
       "      <td>0.010526</td>\n",
       "    </tr>\n",
       "    <tr>\n",
       "      <th>1</th>\n",
       "      <td>apple_pie</td>\n",
       "      <td>('apple', 'flour')</td>\n",
       "      <td>0.115789</td>\n",
       "    </tr>\n",
       "    <tr>\n",
       "      <th>2</th>\n",
       "      <td>apple_pie</td>\n",
       "      <td>('apple', 'water')</td>\n",
       "      <td>0.021053</td>\n",
       "    </tr>\n",
       "    <tr>\n",
       "      <th>3</th>\n",
       "      <td>apple_pie</td>\n",
       "      <td>('apple', 'oats')</td>\n",
       "      <td>0.003509</td>\n",
       "    </tr>\n",
       "    <tr>\n",
       "      <th>4</th>\n",
       "      <td>apple_pie</td>\n",
       "      <td>('apple', 'sugar')</td>\n",
       "      <td>0.105263</td>\n",
       "    </tr>\n",
       "  </tbody>\n",
       "</table>\n",
       "</div>"
      ],
      "text/plain": [
       "        Dish             Ingredients  coexistence_probability\n",
       "0  apple_pie  ('apple', 'margarine')                 0.010526\n",
       "1  apple_pie      ('apple', 'flour')                 0.115789\n",
       "2  apple_pie      ('apple', 'water')                 0.021053\n",
       "3  apple_pie       ('apple', 'oats')                 0.003509\n",
       "4  apple_pie      ('apple', 'sugar')                 0.105263"
      ]
     },
     "execution_count": 33,
     "metadata": {},
     "output_type": "execute_result"
    }
   ],
   "source": [
    "df_ingredients_coexistence_probability = df_final_ingredients.apply(coexistence_probability, axis=1)\n",
    "df_ingredients_coexistence_probability = df_ingredients_coexistence_probability[['Dish','Ingredients','coexistence_probability']]\n",
    "df_ingredients_coexistence_probability.head()"
   ]
  },
  {
   "cell_type": "code",
   "execution_count": 34,
   "metadata": {},
   "outputs": [],
   "source": [
    "f = open('../datasets/Recipes5k/mtannotations/dish_ingr_pair_coexistence_probability.txt','w')\n",
    "\n",
    "f.write('Dish, Ingredients Pair, Coexistence Probability\\n')\n",
    "\n",
    "for elem in df_ingredients_coexistence_probability.values:\n",
    "    \n",
    "    f.write(str(((elem[0],elem[1]), elem[2]))+'\\n')\n",
    "    \n",
    "f.close()"
   ]
  },
  {
   "cell_type": "markdown",
   "metadata": {},
   "source": [
    "#### Create dishes list and concepts list needed to build the ontology"
   ]
  },
  {
   "cell_type": "markdown",
   "metadata": {},
   "source": [
    "Save a file with the list of dishes and another with the total concepts"
   ]
  },
  {
   "cell_type": "code",
   "execution_count": 35,
   "metadata": {},
   "outputs": [],
   "source": [
    "#Create dish list file\n",
    "f = open('../datasets/Recipes5k/mtannotations/dish_list.txt','w')\n",
    "\n",
    "for dish in sel_dishes:\n",
    "  \n",
    "  f.write(dish)\n",
    "  f.write('\\n')\n",
    "  \n",
    "f.close()"
   ]
  },
  {
   "cell_type": "code",
   "execution_count": 36,
   "metadata": {},
   "outputs": [],
   "source": [
    "dir_recipe5k = '../datasets/Recipes5K/'\n",
    "\n",
    "dir_images = dir_recipe5k + 'images/'\n",
    "dir_annotations = dir_recipe5k + 'annotations/'\n",
    "\n",
    "train_dishes = open(dir_annotations+'train_images.txt','r')\n",
    "train_index = open(dir_annotations+'train_labels.txt','r')\n",
    "ingredients = open(dir_annotations+'ingredients_simplified_Recipes5k.txt','r')\n",
    "\n",
    "val_dishes = open(dir_annotations+'val_images.txt','r')\n",
    "val_index = open(dir_annotations+'val_labels.txt','r')\n",
    "\n",
    "test_dishes = open(dir_annotations+'test_images.txt','r')\n",
    "test_index = open(dir_annotations+'test_labels.txt','r')\n",
    "\n",
    "train_dish_name = train_dishes.readlines()\n",
    "train_idxs = train_index.readlines()\n",
    "\n",
    "val_dish_name = val_dishes.readlines()\n",
    "val_idxs = val_index.readlines()\n",
    "\n",
    "test_dish_name = test_dishes.readlines()\n",
    "test_idxs = test_index.readlines()\n",
    "\n",
    "dish_ingredients = ingredients.readlines() \n",
    "\n",
    "\n",
    "ingr_file = open('../datasets/Recipes5k/mtannotations/prep_list_ingredients_img.txt','w')\n",
    "\n",
    "ingr_labels = []\n",
    "\n",
    "for i in range(len(train_idxs)):\n",
    "  \n",
    "  dish = train_dish_name[i].split('/')[0]\n",
    "        \n",
    "  if dish in sel_dishes:  \n",
    "\n",
    "    labels = dish_ingredients[int(train_idxs[i])-1][:-1].split(',')\n",
    "  \n",
    "    if labels not in ingr_labels:\n",
    "  \n",
    "      ingr_labels.append(labels)\n",
    "    \n",
    "for i in range(len(val_idxs)):\n",
    "  \n",
    "  dish = val_dish_name[i].split('/')[0]\n",
    "        \n",
    "  if dish in sel_dishes:  \n",
    "\n",
    "    labels = dish_ingredients[int(val_idxs[i])-1][:-1].split(',')\n",
    "  \n",
    "    if labels not in ingr_labels:\n",
    "  \n",
    "      ingr_labels.append(labels)\n",
    "    \n",
    "for i in range(len(test_idxs)):\n",
    "\n",
    "  dish = test_dish_name[i].split('/')[0]\n",
    "        \n",
    "  if dish in sel_dishes:  \n",
    "  \n",
    "    labels = dish_ingredients[int(test_idxs[i])-1][:-1].split(',')\n",
    "  \n",
    "    if labels not in ingr_labels:\n",
    "    \n",
    "      ingr_labels.append(labels)\n",
    "    \n",
    "\n",
    "for labels in ingr_labels:\n",
    "\n",
    "  ingr_file.write(str(labels))\n",
    "  ingr_file.write('\\n')\n",
    "  \n",
    "ingr_file.close()\n",
    "\n",
    "n_unique_ingr_list = len(ingr_labels)\n",
    "ingr_labels = [str(labels) for labels in ingr_labels]  \n",
    "dict_ingr_labels = dict(zip(ingr_labels, range(n_unique_ingr_list)))\n",
    "\n",
    "f = open(\"../datasets/Recipes5k/mtannotations/list_ingredients_img.txt\", \"w\")\n",
    "\n",
    "with open(\"../datasets/Recipes5k/mtannotations/prep_list_ingredients_img.txt\", \"r\") as prev:\n",
    "  for line in prev:\n",
    "    f.write(line.replace('[','').replace(']','').replace('\\'',''))\n",
    "    #f.write('\\n')\n",
    "f.close()\n",
    "\n",
    "ingredient_list = []\n",
    "ingredients = []\n",
    "with open(\"../datasets/Recipes5k/mtannotations/list_ingredients_img.txt\", \"r\") as f:\n",
    "    for line in f:\n",
    "        #print(line.strip())\n",
    "        ingredients = ingredients + line.strip().split(\", \")\n",
    "        ingredient_list.append(line.strip())\n",
    "\n",
    "ingredients = list(set(ingredients))\n",
    "\n",
    "concepts_list = sel_dishes + ingredients\n",
    "\n",
    "with open(\"../datasets/Recipes5k/mtannotations/concepts_list.txt\",\"w\") as f:\n",
    "  for concept in concepts_list:\n",
    "    f.write(concept)\n",
    "    f.write('\\n')"
   ]
  },
  {
   "cell_type": "code",
   "execution_count": null,
   "metadata": {},
   "outputs": [],
   "source": []
  }
 ],
 "metadata": {
  "kernelspec": {
   "display_name": "Python 3",
   "language": "python",
   "name": "python3"
  },
  "language_info": {
   "codemirror_mode": {
    "name": "ipython",
    "version": 3
   },
   "file_extension": ".py",
   "mimetype": "text/x-python",
   "name": "python",
   "nbconvert_exporter": "python",
   "pygments_lexer": "ipython3",
   "version": "3.6.5"
  }
 },
 "nbformat": 4,
 "nbformat_minor": 2
}
